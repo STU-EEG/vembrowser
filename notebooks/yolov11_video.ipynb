{
 "cells": [
  {
   "cell_type": "code",
   "execution_count": null,
   "id": "6cd0e39b",
   "metadata": {},
   "outputs": [],
   "source": [
    "!pip install -q ultralytics opencv-python"
   ]
  },
  {
   "cell_type": "code",
   "execution_count": null,
   "id": "ea75d0fd",
   "metadata": {},
   "outputs": [],
   "source": [
    "\n",
    "from ultralytics import YOLO\n",
    "import cv2\n",
    "# from google.colab import files\n",
    "import os\n",
    "\n",
    "\n",
    "# uploaded = files.upload()\n",
    "video_path = \"path/to/input.mp4\" # list(uploaded.keys())[0]\n",
    "print(f\"Uploaded video: {video_path}\")\n",
    "\n",
    "\n",
    "model = YOLO(\"yolo11m-pose.pt\")\n",
    "\n",
    "\n",
    "cap = cv2.VideoCapture(video_path)\n",
    "fps = cap.get(cv2.CAP_PROP_FPS) or 30\n",
    "w = int(cap.get(cv2.CAP_PROP_FRAME_WIDTH))\n",
    "h = int(cap.get(cv2.CAP_PROP_FRAME_HEIGHT))\n",
    "\n",
    "output_path = \"pose_output.mp4\"\n",
    "fourcc = cv2.VideoWriter_fourcc(*\"mp4v\")\n",
    "writer = cv2.VideoWriter(output_path, fourcc, fps, (w, h))\n",
    "\n",
    "frame_idx = 0\n",
    "for result in model.track(source=video_path, stream=True, tracker=\"bytetrack.yaml\"):\n",
    "    annotated = result.plot()  # draw poses + boxes\n",
    "    writer.write(annotated)\n",
    "    frame_idx += 1\n",
    "    if frame_idx % 50 == 0:\n",
    "        print(f\"Processed {frame_idx} frames...\")\n",
    "\n",
    "cap.release()\n",
    "writer.release()\n",
    "\n",
    "\n",
    "#files.download(output_path)\n"
   ]
  }
 ],
 "metadata": {
  "language_info": {
   "name": "python"
  }
 },
 "nbformat": 4,
 "nbformat_minor": 5
}
